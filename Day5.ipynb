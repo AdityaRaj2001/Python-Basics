{
 "cells": [
  {
   "cell_type": "code",
   "execution_count": null,
   "metadata": {},
   "outputs": [],
   "source": [
    "#Table Of Content"
   ]
  },
  {
   "cell_type": "code",
   "execution_count": null,
   "metadata": {},
   "outputs": [],
   "source": [
    "1.List\n",
    "2.Tuple\n",
    "3.Sets\n",
    "4.Dictionary\n",
    "5.Strings\n"
   ]
  },
  {
   "cell_type": "code",
   "execution_count": null,
   "metadata": {},
   "outputs": [],
   "source": [
    " #Lists\n",
    "Points to remeber:\n",
    "\n",
    "Lists are collection of items (Strings, integers or even other lists)\n",
    "Lists are enclosed in [ ]\n",
    "Every item in a list has an assigned index value.\n",
    "Each item in a list is separated by a comma\n",
    "Lists are mutable, which means they can be changed.\n",
    "#"
   ]
  },
  {
   "cell_type": "code",
   "execution_count": 1,
   "metadata": {},
   "outputs": [
    {
     "name": "stdout",
     "output_type": "stream",
     "text": [
      "[[45, 3.2], [12, 4.2]]\n"
     ]
    }
   ],
   "source": [
    "   #How to Create a List\n",
    "    \n",
    "blankList = []                                      # Declare an empty List\n",
    "\n",
    "listOfString = ['apple','banana']                  # List of strings\n",
    "\n",
    "listOfNumbers = [12, 7.6,30,64]                   # List of integers\n",
    "\n",
    "listOfList = [[45, 3.2],[12, 4.2]]                  # List of lists\n",
    "\n",
    "listOfMixedDataTypes = [55.4, 'Bill', 232, 14.4]     # List of different datatypes\n",
    "\n",
    "print(listOfList)"
   ]
  },
  {
   "cell_type": "code",
   "execution_count": 2,
   "metadata": {},
   "outputs": [
    {
     "name": "stdout",
     "output_type": "stream",
     "text": [
      "4\n"
     ]
    }
   ],
   "source": [
    "#Finding the Length of the List\n",
    "\n",
    "lstOfMixedDataTypes = [55.4, 'Bill', 232, 14.4]\n",
    "\n",
    "print(len(listOfMixedDataTypes)) "
   ]
  },
  {
   "cell_type": "code",
   "execution_count": 3,
   "metadata": {},
   "outputs": [
    {
     "name": "stdout",
     "output_type": "stream",
     "text": [
      "[12, 7.6, 30, 64, 'Appended Element']\n"
     ]
    }
   ],
   "source": [
    "#Add an element to the end of the List - Append\n",
    "\n",
    "listOfNumbers = [12, 7.6, 30, 64] \n",
    "\n",
    "listOfNumbers.append('Appended Element')             # append function will add the item at the end\n",
    "\n",
    "print(listOfNumbers)"
   ]
  },
  {
   "cell_type": "code",
   "execution_count": 4,
   "metadata": {},
   "outputs": [
    {
     "name": "stdout",
     "output_type": "stream",
     "text": [
      "[55.4, 'Bill', 'Gates', 232, 14.4]\n"
     ]
    }
   ],
   "source": [
    "#Insert an element at a particular position in the List  \n",
    "\n",
    "lstOfMixedDataTypes = [55.4, 'Bill', 232, 14.4]\n",
    "\n",
    "listOfMixedDataTypes.insert(2,'Gates')              # Will add 'Gates' at location 2\n",
    "\n",
    "print(listOfMixedDataTypes)              # Use the insert() method"
   ]
  },
  {
   "cell_type": "code",
   "execution_count": 5,
   "metadata": {},
   "outputs": [
    {
     "name": "stdout",
     "output_type": "stream",
     "text": [
      "[55.4, 'Bill', 232, 14.4, [12, 7.6, 30, 64]]\n",
      "5\n"
     ]
    }
   ],
   "source": [
    "#List in a List - Append vs Extend\n",
    "\n",
    "lstOfMixedDataTypes = [55.4, 'Bill', 232, 14.4]\n",
    "\n",
    "listOfNumbers = [12, 7.6, 30, 64]\n",
    "\n",
    "lstOfMixedDataTypes.append(listOfNumbers)                 # Using the append() method\n",
    "\n",
    "print(lstOfMixedDataTypes)\n",
    "\n",
    "print(len(lstOfMixedDataTypes))"
   ]
  },
  {
   "cell_type": "code",
   "execution_count": 6,
   "metadata": {},
   "outputs": [
    {
     "name": "stdout",
     "output_type": "stream",
     "text": [
      "[55.4, 'Bill', 232, 14.4, 12, 7.6, 30, 64]\n",
      "8\n"
     ]
    }
   ],
   "source": [
    "lstOfMixedDataTypes = [55.4, 'Bill', 232, 14.4]\n",
    "\n",
    "listOfNumbers = [12, 7.6, 30, 64]\n",
    "\n",
    "lstOfMixedDataTypes.extend(listOfNumbers)                 # Using the extend() method\n",
    "\n",
    "print(lstOfMixedDataTypes)\n",
    "\n",
    "print(len(lstOfMixedDataTypes))"
   ]
  },
  {
   "cell_type": "code",
   "execution_count": 7,
   "metadata": {},
   "outputs": [
    {
     "name": "stdout",
     "output_type": "stream",
     "text": [
      "[55.4, 'Bill', 232, 14.4]\n",
      "Bill\n",
      "[55.4, 232, 14.4]\n"
     ]
    }
   ],
   "source": [
    "#Delete an element in a List - del vs pop vs remove\n",
    "\n",
    "lstOfMixedDataTypes = [55.4, 'Bill', 232, 14.4]\n",
    "\n",
    "#del lstOfMixedDataTypes[2]                     # Using del keyword - index\n",
    "#del lstOfMixedDataTypes[1:3]                  # Using del keyword\n",
    "print(lstOfMixedDataTypes)\n",
    "\n",
    "\n",
    "itemDeleted = lstOfMixedDataTypes.pop(1)        # Using pop function - index\n",
    "print(itemDeleted)\n",
    "\n",
    "print(lstOfMixedDataTypes)"
   ]
  },
  {
   "cell_type": "code",
   "execution_count": 8,
   "metadata": {},
   "outputs": [
    {
     "name": "stdout",
     "output_type": "stream",
     "text": [
      "[55.4, 'Bill', 14.4]\n"
     ]
    }
   ],
   "source": [
    "lstOfMixedDataTypes = [55.4, 'Bill', 232, 14.4]\n",
    "\n",
    "\n",
    "lstOfMixedDataTypes.remove(232)                 # Using remove function - value\n",
    "\n",
    "print(lstOfMixedDataTypes)"
   ]
  },
  {
   "cell_type": "code",
   "execution_count": 9,
   "metadata": {},
   "outputs": [
    {
     "name": "stdout",
     "output_type": "stream",
     "text": [
      "Found in list\n",
      "Not in the list\n"
     ]
    }
   ],
   "source": [
    "# Membership of List - in and not in\n",
    "\n",
    "lstOfMixedDataTypes = [55.4, 'Bill', 232, 14.4]\n",
    "\n",
    "if 'Bill' in lstOfMixedDataTypes:\n",
    "    print('Found in list')\n",
    "    \n",
    "if 131 not in lstOfMixedDataTypes:\n",
    "    print('Not in the list')"
   ]
  },
  {
   "cell_type": "code",
   "execution_count": 10,
   "metadata": {},
   "outputs": [
    {
     "name": "stdout",
     "output_type": "stream",
     "text": [
      "[55.4, 'Bill', 232, 14.4]\n",
      "[14.4, 232, 'Bill', 55.4]\n"
     ]
    }
   ],
   "source": [
    "#Reversing a list - reverse\n",
    "lstOfMixedDataTypes = [55.4, 'Bill', 232, 14.4]\n",
    "\n",
    "print(lstOfMixedDataTypes)\n",
    "\n",
    "lstOfMixedDataTypes.reverse()\n",
    "\n",
    "print(lstOfMixedDataTypes)"
   ]
  },
  {
   "cell_type": "code",
   "execution_count": null,
   "metadata": {},
   "outputs": [],
   "source": [
    "Sorting a list\n",
    "Sort a List is using sorted(list) function.\n",
    "\n",
    "The function returns a new list with the elements in ascending order.\n",
    "\n",
    "The original list is not changed.\n",
    "\n",
    "Use the optional argument reverse=True, e.g. sorted(yourList, reverse=True), makes it sort backwards."
   ]
  },
  {
   "cell_type": "code",
   "execution_count": 11,
   "metadata": {},
   "outputs": [
    {
     "name": "stdout",
     "output_type": "stream",
     "text": [
      "[4, 7, 12, 12, 29]\n",
      "[29, 12, 4, 7, 12]\n"
     ]
    }
   ],
   "source": [
    "myList = [29, 12, 4, 7, 12]\n",
    "\n",
    "sorted_list = sorted(myList)\n",
    "#lstOfMixedDataTypes = [55.4, 'Bill', 232, 14.4]          # Sort only compatible types\n",
    "#sorted_lst = sorted(lstOfMixedDataTypes)\n",
    "\n",
    "print(sorted_list)\n",
    "\n",
    "print(myList)                          # Original list is unchanged"
   ]
  },
  {
   "cell_type": "code",
   "execution_count": 12,
   "metadata": {},
   "outputs": [
    {
     "name": "stdout",
     "output_type": "stream",
     "text": [
      "Reverse sorted list : [29, 12, 12, 7, 4]\n",
      "[29, 12, 4, 7, 12]\n"
     ]
    }
   ],
   "source": [
    "print(\"Reverse sorted list :\", sorted(myList, reverse=True))  # Reverse sort a list\n",
    "\n",
    "print(myList)                                                 # The orginal list remains unchanged"
   ]
  },
  {
   "cell_type": "code",
   "execution_count": 13,
   "metadata": {},
   "outputs": [
    {
     "name": "stdout",
     "output_type": "stream",
     "text": [
      "[4, 7, 12, 12, 29]\n"
     ]
    }
   ],
   "source": [
    "myList = [29, 12, 4, 7, 12]                       # Reverse and change the original list\n",
    "myList.sort()\n",
    "\n",
    "print(myList)"
   ]
  },
  {
   "cell_type": "code",
   "execution_count": null,
   "metadata": {},
   "outputs": [],
   "source": []
  }
 ],
 "metadata": {
  "kernelspec": {
   "display_name": "Python 3",
   "language": "python",
   "name": "python3"
  },
  "language_info": {
   "codemirror_mode": {
    "name": "ipython",
    "version": 3
   },
   "file_extension": ".py",
   "mimetype": "text/x-python",
   "name": "python",
   "nbconvert_exporter": "python",
   "pygments_lexer": "ipython3",
   "version": "3.7.0"
  }
 },
 "nbformat": 4,
 "nbformat_minor": 2
}
