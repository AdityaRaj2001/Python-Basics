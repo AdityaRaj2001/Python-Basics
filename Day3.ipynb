{
 "cells": [
  {
   "cell_type": "code",
   "execution_count": null,
   "metadata": {},
   "outputs": [],
   "source": [
    "\n",
    "#Python I/O functions\n",
    "#. Python Output"
   ]
  },
  {
   "cell_type": "code",
   "execution_count": 3,
   "metadata": {},
   "outputs": [
    {
     "name": "stdout",
     "output_type": "stream",
     "text": [
      "The output will be displayed on the screen\n"
     ]
    }
   ],
   "source": [
    "print(\"The output will be displayed on the screen\")"
   ]
  },
  {
   "cell_type": "code",
   "execution_count": 7,
   "metadata": {},
   "outputs": [
    {
     "name": "stdout",
     "output_type": "stream",
     "text": [
      "The value of myInt is 400\n",
      "The value of myInt is 400\n"
     ]
    }
   ],
   "source": [
    "myInt = 400\n",
    "print(\"The value of myInt is\", myInt)\n",
    "print(\"The value of myInt is \" + str(myInt))    # If you wish to print the number in the string form"
   ]
  },
  {
   "cell_type": "code",
   "execution_count": 5,
   "metadata": {},
   "outputs": [],
   "source": [
    "#Output Formatting"
   ]
  },
  {
   "cell_type": "code",
   "execution_count": 6,
   "metadata": {},
   "outputs": [],
   "source": [
    "#To make the output look attractive\n",
    "#we use the str.format() method.\n",
    "#This method is visible to any string object."
   ]
  },
  {
   "cell_type": "code",
   "execution_count": 8,
   "metadata": {},
   "outputs": [
    {
     "name": "stdout",
     "output_type": "stream",
     "text": [
      "myInt1: 20 is the half of myInt2: 40\n"
     ]
    }
   ],
   "source": [
    "myInt1 = 20\n",
    "myInt2 = 40                                                \n",
    "\n",
    "print(\"myInt1: {} is the half of myInt2: {}\".format(myInt1, myInt2))    # Considers the Python provided default Type\n"
   ]
  },
  {
   "cell_type": "code",
   "execution_count": 9,
   "metadata": {},
   "outputs": [
    {
     "name": "stdout",
     "output_type": "stream",
     "text": [
      "myInt2: 40 is double of myInt1: 20\n"
     ]
    }
   ],
   "source": [
    "myInt1 = 20\n",
    "myInt2 = 40 \n",
    "\n",
    "print(\"myInt2: {1} is double of myInt1: {0}\".format(myInt1, myInt2))    # Considers position of arguments"
   ]
  },
  {
   "cell_type": "code",
   "execution_count": 10,
   "metadata": {},
   "outputs": [
    {
     "name": "stdout",
     "output_type": "stream",
     "text": [
      "Welcome Suchit to the world of Data Science\n"
     ]
    }
   ],
   "source": [
    "# Use of keyword arguments to format the string\n",
    "print(\"Welcome {name} to the world of {ds}\".format(name=\"Suchit\", ds=\"Data Science\"))"
   ]
  },
  {
   "cell_type": "code",
   "execution_count": 11,
   "metadata": {},
   "outputs": [
    {
     "name": "stdout",
     "output_type": "stream",
     "text": [
      "Welcome Suchit, to the world of Data Science. We are learning Python.\n"
     ]
    }
   ],
   "source": [
    "# Also a combination of positional arguments with keyword arguments is applicable\n",
    "print('Welcome {0}, to the world of {1}. We are learning {Subject}.'.format('Suchit', 'Data Science', Subject='Python'))"
   ]
  },
  {
   "cell_type": "code",
   "execution_count": 12,
   "metadata": {},
   "outputs": [
    {
     "name": "stdout",
     "output_type": "stream",
     "text": [
      "+3.140000; -3.140000\n"
     ]
    }
   ],
   "source": [
    "print('{:+f}; {:+f}'.format(3.14, -3.14))  # show the signs"
   ]
  },
  {
   "cell_type": "code",
   "execution_count": 13,
   "metadata": {},
   "outputs": [],
   "source": [
    "# Python Input"
   ]
  },
  {
   "cell_type": "code",
   "execution_count": 14,
   "metadata": {},
   "outputs": [
    {
     "name": "stdout",
     "output_type": "stream",
     "text": [
      "Please enter some data: Hello world\n",
      "You typed in:  Hello world\n"
     ]
    }
   ],
   "source": [
    "userInput = input(\"Please enter some data: \")\n",
    "print(\"You typed in: \",userInput)"
   ]
  },
  {
   "cell_type": "code",
   "execution_count": 15,
   "metadata": {},
   "outputs": [
    {
     "name": "stdout",
     "output_type": "stream",
     "text": [
      "Enter class strength: 15\n",
      "You typed in:  15\n",
      "userInput type is :  <class 'str'>\n"
     ]
    }
   ],
   "source": [
    "userInput = input(\"Enter class strength: \")\n",
    "print(\"You typed in: \",userInput)\n",
    "print(\"userInput type is : \",type(userInput))"
   ]
  },
  {
   "cell_type": "code",
   "execution_count": 16,
   "metadata": {},
   "outputs": [
    {
     "name": "stdout",
     "output_type": "stream",
     "text": [
      "classStrength value is:  15\n",
      "classStrength type is :  <class 'int'>\n"
     ]
    }
   ],
   "source": [
    "classStrength = int(userInput)\n",
    "print(\"classStrength value is: \",classStrength)\n",
    "print(\"classStrength type is : \",type(classStrength))"
   ]
  },
  {
   "cell_type": "code",
   "execution_count": null,
   "metadata": {},
   "outputs": [],
   "source": []
  }
 ],
 "metadata": {
  "kernelspec": {
   "display_name": "Python 3",
   "language": "python",
   "name": "python3"
  },
  "language_info": {
   "codemirror_mode": {
    "name": "ipython",
    "version": 3
   },
   "file_extension": ".py",
   "mimetype": "text/x-python",
   "name": "python",
   "nbconvert_exporter": "python",
   "pygments_lexer": "ipython3",
   "version": "3.7.0"
  }
 },
 "nbformat": 4,
 "nbformat_minor": 2
}
